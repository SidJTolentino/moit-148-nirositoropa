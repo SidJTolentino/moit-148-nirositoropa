{
 "cells": [
  {
   "cell_type": "code",
   "execution_count": null,
   "id": "da9b3ff4",
   "metadata": {},
   "outputs": [
    {
     "name": "stdout",
     "output_type": "stream",
     "text": [
      "Collecting pandas\n",
      "  Downloading pandas-2.2.3-cp313-cp313-win_amd64.whl.metadata (19 kB)\n",
      "Collecting numpy>=1.26.0 (from pandas)\n",
      "  Downloading numpy-2.2.5-cp313-cp313-win_amd64.whl.metadata (60 kB)\n",
      "Requirement already satisfied: python-dateutil>=2.8.2 in c:\\users\\guztavo\\appdata\\roaming\\python\\python313\\site-packages (from pandas) (2.9.0.post0)\n",
      "Collecting pytz>=2020.1 (from pandas)\n",
      "  Downloading pytz-2025.2-py2.py3-none-any.whl.metadata (22 kB)\n",
      "Collecting tzdata>=2022.7 (from pandas)\n",
      "  Downloading tzdata-2025.2-py2.py3-none-any.whl.metadata (1.4 kB)\n",
      "Requirement already satisfied: six>=1.5 in c:\\users\\guztavo\\appdata\\roaming\\python\\python313\\site-packages (from python-dateutil>=2.8.2->pandas) (1.17.0)\n",
      "Downloading pandas-2.2.3-cp313-cp313-win_amd64.whl (11.5 MB)\n",
      "   ---------------------------------------- 0.0/11.5 MB ? eta -:--:--\n",
      "   ------------------------- -------------- 7.3/11.5 MB 34.4 MB/s eta 0:00:01\n",
      "   ---------------------------------------- 11.5/11.5 MB 32.5 MB/s eta 0:00:00\n",
      "Downloading numpy-2.2.5-cp313-cp313-win_amd64.whl (12.6 MB)\n",
      "   ---------------------------------------- 0.0/12.6 MB ? eta -:--:--\n",
      "   --------------------------- ------------ 8.7/12.6 MB 40.6 MB/s eta 0:00:01\n",
      "   ------------------------------- -------- 10.0/12.6 MB 27.7 MB/s eta 0:00:01\n",
      "   ---------------------------------------  12.6/12.6 MB 22.9 MB/s eta 0:00:01\n",
      "   ---------------------------------------- 12.6/12.6 MB 19.0 MB/s eta 0:00:00\n",
      "Downloading pytz-2025.2-py2.py3-none-any.whl (509 kB)\n",
      "Downloading tzdata-2025.2-py2.py3-none-any.whl (347 kB)\n",
      "Installing collected packages: pytz, tzdata, numpy, pandas\n",
      "Successfully installed numpy-2.2.5 pandas-2.2.3 pytz-2025.2 tzdata-2025.2\n",
      "Note: you may need to restart the kernel to use updated packages.\n"
     ]
    },
    {
     "name": "stderr",
     "output_type": "stream",
     "text": [
      "\n",
      "[notice] A new release of pip is available: 25.0.1 -> 25.1.1\n",
      "[notice] To update, run: python.exe -m pip install --upgrade pip\n"
     ]
    }
   ],
   "source": []
  },
  {
   "cell_type": "code",
   "execution_count": null,
   "id": "a745cdd3",
   "metadata": {},
   "outputs": [
    {
     "name": "stdout",
     "output_type": "stream",
     "text": [
      "Requirement already satisfied: numpy in c:\\users\\guztavo\\appdata\\local\\programs\\python\\python313\\lib\\site-packages (2.2.5)\n",
      "Note: you may need to restart the kernel to use updated packages.\n"
     ]
    },
    {
     "name": "stderr",
     "output_type": "stream",
     "text": [
      "\n",
      "[notice] A new release of pip is available: 25.0.1 -> 25.1.1\n",
      "[notice] To update, run: python.exe -m pip install --upgrade pip\n"
     ]
    }
   ],
   "source": []
  },
  {
   "cell_type": "code",
   "execution_count": 4,
   "id": "9ec9fbd2",
   "metadata": {},
   "outputs": [],
   "source": [
    "import pandas as pd\n",
    "import numpy as np"
   ]
  },
  {
   "cell_type": "code",
   "execution_count": 6,
   "id": "ec71a050",
   "metadata": {},
   "outputs": [],
   "source": [
    "from datetime import datetime, timedelta\n"
   ]
  },
  {
   "cell_type": "code",
   "execution_count": 7,
   "id": "41c5e2fa",
   "metadata": {},
   "outputs": [],
   "source": [
    "num_records = 100  # Adjust this number as needed\n",
    "\n",
    "\n",
    "# Example for Smart Logistics Tracking\n",
    "data = []"
   ]
  },
  {
   "cell_type": "code",
   "execution_count": 8,
   "id": "755ad5ff",
   "metadata": {},
   "outputs": [],
   "source": [
    "for _ in range(num_records):\n",
    "    record = {\n",
    "        \"timestamp\": datetime.now() - timedelta(minutes=np.random.randint(0, 1440)),  # Random timestamp in the last 24 hours\n",
    "        \"rfid\": f\"TRK{np.random.randint(100, 999)}\",  # Random RFID\n",
    "        \"gps_sensor\": np.random.randint(60, 100),  # Normal heart rate range\n",
    "        \"temperature_sensor\": round(np.random.uniform(20.0, 25.0), 1)  # Goods temperature in Celsius\n",
    "    }\n",
    "    data.append(record)"
   ]
  },
  {
   "cell_type": "code",
   "execution_count": 9,
   "id": "a915b65e",
   "metadata": {},
   "outputs": [],
   "source": [
    "# Convert to DataFrame\n",
    "df = pd.DataFrame(data)"
   ]
  },
  {
   "cell_type": "code",
   "execution_count": 10,
   "id": "cf0224b3",
   "metadata": {},
   "outputs": [
    {
     "name": "stdout",
     "output_type": "stream",
     "text": [
      "0     20.4\n",
      "1     24.6\n",
      "2     23.1\n",
      "3     23.7\n",
      "4     23.8\n",
      "      ... \n",
      "95    24.9\n",
      "96    22.9\n",
      "97    22.8\n",
      "98    24.9\n",
      "99    24.0\n",
      "Name: temperature_sensor, Length: 100, dtype: float64\n"
     ]
    }
   ],
   "source": [
    "print(df.temperature_sensor)"
   ]
  },
  {
   "cell_type": "code",
   "execution_count": 11,
   "id": "f88952f0",
   "metadata": {},
   "outputs": [],
   "source": [
    "df.to_csv(\"logistics_tracking_data.csv\", index=False)\n",
    "df.to_json(\"logistics_tracking_dat\", orient=\"records\")"
   ]
  },
  {
   "cell_type": "code",
   "execution_count": null,
   "id": "ba36ff0d",
   "metadata": {},
   "outputs": [],
   "source": []
  }
 ],
 "metadata": {
  "kernelspec": {
   "display_name": "Python 3",
   "language": "python",
   "name": "python3"
  },
  "language_info": {
   "codemirror_mode": {
    "name": "ipython",
    "version": 3
   },
   "file_extension": ".py",
   "mimetype": "text/x-python",
   "name": "python",
   "nbconvert_exporter": "python",
   "pygments_lexer": "ipython3",
   "version": "3.13.3"
  }
 },
 "nbformat": 4,
 "nbformat_minor": 5
}
